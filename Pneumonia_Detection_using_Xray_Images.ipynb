{
  "nbformat": 4,
  "nbformat_minor": 0,
  "metadata": {
    "colab": {
      "provenance": [],
      "gpuType": "T4"
    },
    "kernelspec": {
      "name": "python3",
      "display_name": "Python 3"
    },
    "language_info": {
      "name": "python"
    },
    "accelerator": "GPU"
  },
  "cells": [
    {
      "cell_type": "markdown",
      "source": [
        "### Download Dataset"
      ],
      "metadata": {
        "id": "r5JPZiPaiJNy"
      }
    },
    {
      "cell_type": "code",
      "execution_count": 3,
      "metadata": {
        "colab": {
          "base_uri": "https://localhost:8080/"
        },
        "id": "lSdx61p_XJ8L",
        "outputId": "408406a0-64a5-4cc0-e69a-3ec836f9ec45"
      },
      "outputs": [
        {
          "output_type": "stream",
          "name": "stdout",
          "text": [
            "Downloading chest-xray-pneumonia.zip to /content\n",
            " 99% 2.27G/2.29G [00:24<00:00, 101MB/s]\n",
            "100% 2.29G/2.29G [00:24<00:00, 101MB/s]\n"
          ]
        }
      ],
      "source": [
        "import os\n",
        "# put your kaggle ac username and kaggle key which you will get after generating api token\n",
        "os.environ['KAGGLE_USERNAME'] = \"**********\"\n",
        "os.environ[\"KAGGLE_KEY\"] = \"**********\"\n",
        "\n",
        "!kaggle datasets download paultimothymooney/chest-xray-pneumonia\n"
      ]
    },
    {
      "cell_type": "code",
      "source": [
        "!unzip /content/chest-xray-pneumonia.zip"
      ],
      "metadata": {
        "id": "5kw7NX_XX5xF"
      },
      "execution_count": null,
      "outputs": []
    },
    {
      "cell_type": "markdown",
      "source": [
        "### Import Libraries"
      ],
      "metadata": {
        "id": "rv0CF4zziU5Y"
      }
    },
    {
      "cell_type": "code",
      "source": [
        "import tensorflow as tf\n",
        "from tensorflow import keras\n",
        "from tensorflow.keras.layers import Dense,  Flatten, Input, Lambda\n",
        "from keras.models import Model\n",
        "from keras.applications.vgg16 import VGG16\n",
        "from keras.applications.vgg16 import preprocess_input\n",
        "from keras.preprocessing import image\n",
        "from keras.preprocessing.image import ImageDataGenerator\n",
        "from keras.models import Sequential\n",
        "\n",
        "import numpy as np\n",
        "import cv2\n",
        "import matplotlib.pyplot as plt\n",
        "from glob import glob\n"
      ],
      "metadata": {
        "id": "StDgimPwYlsd"
      },
      "execution_count": 7,
      "outputs": []
    },
    {
      "cell_type": "code",
      "source": [
        "IMAGE_SIZE  = [224,224]\n",
        "\n",
        "train_path = r\"/content/chest_xray/train\"\n",
        "test_path = r\"/content/chest_xray/test\"\n"
      ],
      "metadata": {
        "id": "bB1LPV6OZw9e"
      },
      "execution_count": 10,
      "outputs": []
    },
    {
      "cell_type": "markdown",
      "source": [
        "### download model"
      ],
      "metadata": {
        "id": "yKKB9w0DiW3B"
      }
    },
    {
      "cell_type": "code",
      "source": [
        "vgg = VGG16(input_shape = IMAGE_SIZE + [3], weights='imagenet', include_top = False)"
      ],
      "metadata": {
        "colab": {
          "base_uri": "https://localhost:8080/"
        },
        "id": "ggltTmliaL5B",
        "outputId": "5af6b2d3-7f92-4039-c042-94a559d38dd1"
      },
      "execution_count": 11,
      "outputs": [
        {
          "output_type": "stream",
          "name": "stdout",
          "text": [
            "Downloading data from https://storage.googleapis.com/tensorflow/keras-applications/vgg16/vgg16_weights_tf_dim_ordering_tf_kernels_notop.h5\n",
            "58889256/58889256 [==============================] - 0s 0us/step\n"
          ]
        }
      ]
    },
    {
      "cell_type": "code",
      "source": [
        "for layer in vgg.layers:\n",
        "    layer.trainable = False"
      ],
      "metadata": {
        "id": "XAmnf0cmaoHr"
      },
      "execution_count": 12,
      "outputs": []
    },
    {
      "cell_type": "code",
      "source": [
        "folders = glob(r\"/content/chest_xray/train/*\")\n",
        "print(folders)\n"
      ],
      "metadata": {
        "colab": {
          "base_uri": "https://localhost:8080/"
        },
        "id": "UW-TFQlKaxVA",
        "outputId": "975ec438-9b6d-4968-ae46-8178d3c2b9b6"
      },
      "execution_count": 14,
      "outputs": [
        {
          "output_type": "execute_result",
          "data": {
            "text/plain": [
              "['/content/chest_xray/train/NORMAL', '/content/chest_xray/train/PNEUMONIA']"
            ]
          },
          "metadata": {},
          "execution_count": 14
        }
      ]
    },
    {
      "cell_type": "code",
      "source": [
        "x = Flatten()(vgg.output)\n",
        "prediction = Dense(len(folders),activation='softmax')(x)\n",
        "model = Model(inputs = vgg.input, outputs = prediction)\n",
        "\n",
        "model.summary()"
      ],
      "metadata": {
        "id": "x4vubtMpa_sK"
      },
      "execution_count": 15,
      "outputs": []
    },
    {
      "cell_type": "code",
      "source": [
        "model.compile(\n",
        "    loss = tf.keras.losses.CategoricalCrossentropy(),\n",
        "    optimizer = tf.keras.optimizers.Adam(),\n",
        "    metrics = ['accuracy']\n",
        "\n",
        ")"
      ],
      "metadata": {
        "id": "tbiOg1pfbhZY"
      },
      "execution_count": 17,
      "outputs": []
    },
    {
      "cell_type": "markdown",
      "source": [
        "### image augmentation to increase train and test data"
      ],
      "metadata": {
        "id": "HaaEi9iVidWU"
      }
    },
    {
      "cell_type": "code",
      "source": [
        "train_datagen = ImageDataGenerator(rescale = 1./255,\n",
        "                                   shear_range = 0.2,\n",
        "                                   zoom_range = 0.2,\n",
        "                                   horizontal_flip = True)\n",
        "test_datagen = ImageDataGenerator(rescale = 1./255)"
      ],
      "metadata": {
        "id": "nfELmOgxb4G6"
      },
      "execution_count": 18,
      "outputs": []
    },
    {
      "cell_type": "code",
      "source": [
        "train_set = train_datagen.flow_from_directory(train_path,\n",
        "                                              target_size = (224,224),\n",
        "                                              batch_size = 64,\n",
        "                                              class_mode = 'categorical')\n",
        "\n",
        "test_set = test_datagen.flow_from_directory(test_path,\n",
        "                                            target_size = (224,224),\n",
        "                                            batch_size = 64,\n",
        "                                            class_mode = 'categorical')"
      ],
      "metadata": {
        "colab": {
          "base_uri": "https://localhost:8080/"
        },
        "id": "hvzJIkOyckLf",
        "outputId": "a78f4142-c9cf-4a93-aba1-a60155d21892"
      },
      "execution_count": 19,
      "outputs": [
        {
          "output_type": "stream",
          "name": "stdout",
          "text": [
            "Found 5216 images belonging to 2 classes.\n",
            "Found 624 images belonging to 2 classes.\n"
          ]
        }
      ]
    },
    {
      "cell_type": "markdown",
      "source": [
        "### Fitting the model"
      ],
      "metadata": {
        "id": "x8mOoV0cihWc"
      }
    },
    {
      "cell_type": "code",
      "source": [
        "r = model.fit_generator(\n",
        "    train_set,\n",
        "    validation_data = test_set,\n",
        "    epochs = 1,\n",
        "    steps_per_epoch = len(train_set),\n",
        "    validation_steps = len(test_set)\n",
        "\n",
        ")"
      ],
      "metadata": {
        "colab": {
          "base_uri": "https://localhost:8080/"
        },
        "id": "HcCgSDdAdKf7",
        "outputId": "2b9ddd79-b715-48ab-b04d-438eb1613c03"
      },
      "execution_count": 23,
      "outputs": [
        {
          "output_type": "stream",
          "name": "stderr",
          "text": [
            "<ipython-input-23-b0d78edad6f5>:1: UserWarning: `Model.fit_generator` is deprecated and will be removed in a future version. Please use `Model.fit`, which supports generators.\n",
            "  r = model.fit_generator(\n"
          ]
        },
        {
          "output_type": "stream",
          "name": "stdout",
          "text": [
            "82/82 [==============================] - 148s 2s/step - loss: 0.2742 - accuracy: 0.8903 - val_loss: 0.3360 - val_accuracy: 0.8830\n"
          ]
        }
      ]
    },
    {
      "cell_type": "markdown",
      "source": [
        "### Saving the model"
      ],
      "metadata": {
        "id": "Hc_A-tk2ilq6"
      }
    },
    {
      "cell_type": "code",
      "source": [
        "from keras.models import load_model\n",
        "\n",
        "model.save('chest_xray.h5')"
      ],
      "metadata": {
        "colab": {
          "base_uri": "https://localhost:8080/"
        },
        "id": "9d6wF7fIdhVj",
        "outputId": "672c5c5b-882b-40c5-f4f2-8180d2e5e564"
      },
      "execution_count": 24,
      "outputs": [
        {
          "output_type": "stream",
          "name": "stderr",
          "text": [
            "/usr/local/lib/python3.10/dist-packages/keras/src/engine/training.py:3103: UserWarning: You are saving your model as an HDF5 file via `model.save()`. This file format is considered legacy. We recommend using instead the native Keras format, e.g. `model.save('my_model.keras')`.\n",
            "  saving_api.save_model(\n"
          ]
        }
      ]
    },
    {
      "cell_type": "markdown",
      "source": [
        "### loading the saved model and testing it on new xray image"
      ],
      "metadata": {
        "id": "AJeqbx2wiozr"
      }
    },
    {
      "cell_type": "code",
      "source": [
        "nModel = load_model('chest_xray.h5')"
      ],
      "metadata": {
        "id": "eiHpKNc3fIDW"
      },
      "execution_count": 25,
      "outputs": []
    },
    {
      "cell_type": "code",
      "source": [
        "img = image.load_img(r\"/content/chest_xray/val/PNEUMONIA/person1947_bacteria_4876.jpeg\",target_size = (224,224))\n",
        "\n",
        "\n",
        "x = image.img_to_array(img)\n",
        "print(x.shape)\n",
        "x = np.expand_dims(x,axis = 0)\n",
        "print(x.shape)\n",
        "img_data = preprocess_input(x)\n",
        "\n",
        "classes = nModel.predict(img_data)\n",
        "print(classes)\n",
        "result = classes[0]\n",
        "\n",
        "if np.argmax(result) == 0:\n",
        "    print(\"result is normal\")\n",
        "if  np.argmax(result) == 1:\n",
        "    print(\"person is affected with penumonia\")\n",
        "\n"
      ],
      "metadata": {
        "colab": {
          "base_uri": "https://localhost:8080/"
        },
        "id": "rzGGp7XefUw7",
        "outputId": "205c20ce-21cc-475c-883a-24269bd30ec1"
      },
      "execution_count": 33,
      "outputs": [
        {
          "output_type": "stream",
          "name": "stdout",
          "text": [
            "(224, 224, 3)\n",
            "(1, 224, 224, 3)\n",
            "1/1 [==============================] - 0s 19ms/step\n",
            "[[3.4546984e-14 1.0000000e+00]]\n",
            "person is affected with penumonia\n"
          ]
        }
      ]
    },
    {
      "cell_type": "code",
      "source": [],
      "metadata": {
        "id": "tnaZhaytfrVV"
      },
      "execution_count": null,
      "outputs": []
    }
  ]
}